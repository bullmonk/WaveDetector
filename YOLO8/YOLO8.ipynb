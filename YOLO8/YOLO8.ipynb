{
 "cells": [
  {
   "cell_type": "code",
   "execution_count": 1,
   "id": "61d2a694-80f0-4449-a2dd-c5fc2897898d",
   "metadata": {},
   "outputs": [],
   "source": [
    "from ultralytics import YOLO"
   ]
  },
  {
   "cell_type": "code",
   "execution_count": 2,
   "id": "deb65086-7009-47c6-a668-7fc377f35b76",
   "metadata": {},
   "outputs": [],
   "source": [
    "model = YOLO(\"yolov8n.yaml\")"
   ]
  },
  {
   "cell_type": "code",
   "execution_count": 3,
   "id": "918d9fab-934c-42c0-bcfb-a898a65925f7",
   "metadata": {},
   "outputs": [
    {
     "name": "stdout",
     "output_type": "stream",
     "text": [
      "New https://pypi.org/project/ultralytics/8.3.13 available 😃 Update with 'pip install -U ultralytics'\n",
      "Ultralytics YOLOv8.2.74 🚀 Python-3.11.9 torch-2.1.2 CUDA:0 (NVIDIA GeForce RTX 3090, 24266MiB)\n",
      "\u001b[34m\u001b[1mengine/trainer: \u001b[0mtask=detect, mode=train, model=yolov8n.yaml, data=./data.yaml, epochs=10, time=None, patience=100, batch=16, imgsz=640, save=True, save_period=-1, cache=False, device=None, workers=8, project=None, name=train31, exist_ok=False, pretrained=True, optimizer=auto, verbose=True, seed=0, deterministic=True, single_cls=False, rect=False, cos_lr=False, close_mosaic=10, resume=False, amp=True, fraction=1.0, profile=False, freeze=None, multi_scale=False, overlap_mask=True, mask_ratio=4, dropout=0.0, val=True, split=val, save_json=False, save_hybrid=False, conf=None, iou=0.7, max_det=300, half=False, dnn=False, plots=True, source=None, vid_stride=1, stream_buffer=False, visualize=False, augment=False, agnostic_nms=False, classes=None, retina_masks=False, embed=None, show=False, save_frames=False, save_txt=False, save_conf=False, save_crop=False, show_labels=True, show_conf=True, show_boxes=True, line_width=None, format=torchscript, keras=False, optimize=False, int8=False, dynamic=False, simplify=False, opset=None, workspace=4, nms=False, lr0=0.01, lrf=0.01, momentum=0.937, weight_decay=0.0005, warmup_epochs=3.0, warmup_momentum=0.8, warmup_bias_lr=0.1, box=7.5, cls=0.5, dfl=1.5, pose=12.0, kobj=1.0, label_smoothing=0.0, nbs=64, hsv_h=0.015, hsv_s=0.7, hsv_v=0.4, degrees=0.0, translate=0.1, scale=0.5, shear=0.0, perspective=0.0, flipud=0.0, fliplr=0.5, bgr=0.0, mosaic=1.0, mixup=0.0, copy_paste=0.0, auto_augment=randaugment, erasing=0.4, crop_fraction=1.0, cfg=None, tracker=botsort.yaml, save_dir=runs/detect/train31\n",
      "Overriding model.yaml nc=80 with nc=1\n",
      "\n",
      "                   from  n    params  module                                       arguments                     \n",
      "  0                  -1  1       464  ultralytics.nn.modules.conv.Conv             [3, 16, 3, 2]                 \n",
      "  1                  -1  1      4672  ultralytics.nn.modules.conv.Conv             [16, 32, 3, 2]                \n",
      "  2                  -1  1      7360  ultralytics.nn.modules.block.C2f             [32, 32, 1, True]             \n",
      "  3                  -1  1     18560  ultralytics.nn.modules.conv.Conv             [32, 64, 3, 2]                \n",
      "  4                  -1  2     49664  ultralytics.nn.modules.block.C2f             [64, 64, 2, True]             \n",
      "  5                  -1  1     73984  ultralytics.nn.modules.conv.Conv             [64, 128, 3, 2]               \n",
      "  6                  -1  2    197632  ultralytics.nn.modules.block.C2f             [128, 128, 2, True]           \n",
      "  7                  -1  1    295424  ultralytics.nn.modules.conv.Conv             [128, 256, 3, 2]              \n",
      "  8                  -1  1    460288  ultralytics.nn.modules.block.C2f             [256, 256, 1, True]           \n",
      "  9                  -1  1    164608  ultralytics.nn.modules.block.SPPF            [256, 256, 5]                 \n",
      " 10                  -1  1         0  torch.nn.modules.upsampling.Upsample         [None, 2, 'nearest']          \n",
      " 11             [-1, 6]  1         0  ultralytics.nn.modules.conv.Concat           [1]                           \n",
      " 12                  -1  1    148224  ultralytics.nn.modules.block.C2f             [384, 128, 1]                 \n",
      " 13                  -1  1         0  torch.nn.modules.upsampling.Upsample         [None, 2, 'nearest']          \n",
      " 14             [-1, 4]  1         0  ultralytics.nn.modules.conv.Concat           [1]                           \n",
      " 15                  -1  1     37248  ultralytics.nn.modules.block.C2f             [192, 64, 1]                  \n",
      " 16                  -1  1     36992  ultralytics.nn.modules.conv.Conv             [64, 64, 3, 2]                \n",
      " 17            [-1, 12]  1         0  ultralytics.nn.modules.conv.Concat           [1]                           \n",
      " 18                  -1  1    123648  ultralytics.nn.modules.block.C2f             [192, 128, 1]                 \n",
      " 19                  -1  1    147712  ultralytics.nn.modules.conv.Conv             [128, 128, 3, 2]              \n",
      " 20             [-1, 9]  1         0  ultralytics.nn.modules.conv.Concat           [1]                           \n",
      " 21                  -1  1    493056  ultralytics.nn.modules.block.C2f             [384, 256, 1]                 \n",
      " 22        [15, 18, 21]  1    751507  ultralytics.nn.modules.head.Detect           [1, [64, 128, 256]]           \n",
      "YOLOv8n summary: 225 layers, 3,011,043 parameters, 3,011,027 gradients\n",
      "\n",
      "Freezing layer 'model.22.dfl.conv.weight'\n",
      "\u001b[34m\u001b[1mAMP: \u001b[0mrunning Automatic Mixed Precision (AMP) checks with YOLOv8n...\n",
      "\u001b[34m\u001b[1mAMP: \u001b[0mchecks passed ✅\n"
     ]
    },
    {
     "name": "stderr",
     "output_type": "stream",
     "text": [
      "\u001b[34m\u001b[1mtrain: \u001b[0mScanning /home/xxl135130/shared/datasets/trainChorusV4/labels/train... 900 im\u001b[0m\n"
     ]
    },
    {
     "name": "stdout",
     "output_type": "stream",
     "text": [
      "\u001b[34m\u001b[1mtrain: \u001b[0mNew cache created: /home/xxl135130/shared/datasets/trainChorusV4/labels/train.cache\n"
     ]
    },
    {
     "name": "stderr",
     "output_type": "stream",
     "text": [
      "\u001b[34m\u001b[1mval: \u001b[0mScanning /home/xxl135130/shared/datasets/trainChorusV4/labels/val... 100 images\u001b[0m\n"
     ]
    },
    {
     "name": "stdout",
     "output_type": "stream",
     "text": [
      "\u001b[34m\u001b[1mval: \u001b[0mNew cache created: /home/xxl135130/shared/datasets/trainChorusV4/labels/val.cache\n",
      "Plotting labels to runs/detect/train31/labels.jpg... \n",
      "\u001b[34m\u001b[1moptimizer:\u001b[0m 'optimizer=auto' found, ignoring 'lr0=0.01' and 'momentum=0.937' and determining best 'optimizer', 'lr0' and 'momentum' automatically... \n",
      "\u001b[34m\u001b[1moptimizer:\u001b[0m AdamW(lr=0.002, momentum=0.9) with parameter groups 57 weight(decay=0.0), 64 weight(decay=0.0005), 63 bias(decay=0.0)\n",
      "Image sizes 640 train, 640 val\n",
      "Using 8 dataloader workers\n",
      "Logging results to \u001b[1mruns/detect/train31\u001b[0m\n",
      "Starting training for 10 epochs...\n",
      "Closing dataloader mosaic\n",
      "\n",
      "      Epoch    GPU_mem   box_loss   cls_loss   dfl_loss  Instances       Size\n"
     ]
    },
    {
     "name": "stderr",
     "output_type": "stream",
     "text": [
      "       1/10      2.39G      5.152       3.01      3.006         42        640: 100%|\n",
      "                 Class     Images  Instances      Box(P          R      mAP50  mAP50"
     ]
    },
    {
     "name": "stdout",
     "output_type": "stream",
     "text": [
      "                   all        100       1100          0          0          0          0\n"
     ]
    },
    {
     "name": "stderr",
     "output_type": "stream",
     "text": [
      "\n"
     ]
    },
    {
     "name": "stdout",
     "output_type": "stream",
     "text": [
      "\n",
      "      Epoch    GPU_mem   box_loss   cls_loss   dfl_loss  Instances       Size\n"
     ]
    },
    {
     "name": "stderr",
     "output_type": "stream",
     "text": [
      "       2/10      2.25G      3.158      1.755      1.739         42        640: 100%|\n",
      "                 Class     Images  Instances      Box(P          R      mAP50  mAP50"
     ]
    },
    {
     "name": "stdout",
     "output_type": "stream",
     "text": [
      "                   all        100       1100      0.514    0.00545      0.015     0.0054\n"
     ]
    },
    {
     "name": "stderr",
     "output_type": "stream",
     "text": [
      "\n"
     ]
    },
    {
     "name": "stdout",
     "output_type": "stream",
     "text": [
      "\n",
      "      Epoch    GPU_mem   box_loss   cls_loss   dfl_loss  Instances       Size\n"
     ]
    },
    {
     "name": "stderr",
     "output_type": "stream",
     "text": [
      "       3/10      2.24G      2.596      1.557      1.681         43        640: 100%|\n",
      "                 Class     Images  Instances      Box(P          R      mAP50  mAP50"
     ]
    },
    {
     "name": "stdout",
     "output_type": "stream",
     "text": [
      "                   all        100       1100      0.422       0.38      0.329     0.0745\n"
     ]
    },
    {
     "name": "stderr",
     "output_type": "stream",
     "text": [
      "\n"
     ]
    },
    {
     "name": "stdout",
     "output_type": "stream",
     "text": [
      "\n",
      "      Epoch    GPU_mem   box_loss   cls_loss   dfl_loss  Instances       Size\n"
     ]
    },
    {
     "name": "stderr",
     "output_type": "stream",
     "text": [
      "       4/10      2.25G      2.233       1.32      1.551         42        640: 100%|\n",
      "                 Class     Images  Instances      Box(P          R      mAP50  mAP50"
     ]
    },
    {
     "name": "stdout",
     "output_type": "stream",
     "text": [
      "                   all        100       1100      0.492      0.784      0.694       0.26\n"
     ]
    },
    {
     "name": "stderr",
     "output_type": "stream",
     "text": [
      "\n"
     ]
    },
    {
     "name": "stdout",
     "output_type": "stream",
     "text": [
      "\n",
      "      Epoch    GPU_mem   box_loss   cls_loss   dfl_loss  Instances       Size\n"
     ]
    },
    {
     "name": "stderr",
     "output_type": "stream",
     "text": [
      "       5/10      2.25G      1.991      1.141      1.429         42        640: 100%|\n",
      "                 Class     Images  Instances      Box(P          R      mAP50  mAP50"
     ]
    },
    {
     "name": "stdout",
     "output_type": "stream",
     "text": [
      "                   all        100       1100      0.686      0.893      0.848      0.458\n"
     ]
    },
    {
     "name": "stderr",
     "output_type": "stream",
     "text": [
      "\n"
     ]
    },
    {
     "name": "stdout",
     "output_type": "stream",
     "text": [
      "\n",
      "      Epoch    GPU_mem   box_loss   cls_loss   dfl_loss  Instances       Size\n"
     ]
    },
    {
     "name": "stderr",
     "output_type": "stream",
     "text": [
      "       6/10      2.25G      1.794     0.9791      1.302         44        640: 100%|\n",
      "                 Class     Images  Instances      Box(P          R      mAP50  mAP50"
     ]
    },
    {
     "name": "stdout",
     "output_type": "stream",
     "text": [
      "                   all        100       1100       0.88      0.959      0.972      0.654\n"
     ]
    },
    {
     "name": "stderr",
     "output_type": "stream",
     "text": [
      "\n"
     ]
    },
    {
     "name": "stdout",
     "output_type": "stream",
     "text": [
      "\n",
      "      Epoch    GPU_mem   box_loss   cls_loss   dfl_loss  Instances       Size\n"
     ]
    },
    {
     "name": "stderr",
     "output_type": "stream",
     "text": [
      "       7/10      2.24G      1.645     0.8818      1.253         41        640: 100%|\n",
      "                 Class     Images  Instances      Box(P          R      mAP50  mAP50"
     ]
    },
    {
     "name": "stdout",
     "output_type": "stream",
     "text": [
      "                   all        100       1100      0.928      0.945      0.984      0.683\n"
     ]
    },
    {
     "name": "stderr",
     "output_type": "stream",
     "text": [
      "\n"
     ]
    },
    {
     "name": "stdout",
     "output_type": "stream",
     "text": [
      "\n",
      "      Epoch    GPU_mem   box_loss   cls_loss   dfl_loss  Instances       Size\n"
     ]
    },
    {
     "name": "stderr",
     "output_type": "stream",
     "text": [
      "       8/10      2.25G      1.517     0.8029      1.194         43        640: 100%|\n",
      "                 Class     Images  Instances      Box(P          R      mAP50  mAP50"
     ]
    },
    {
     "name": "stdout",
     "output_type": "stream",
     "text": [
      "                   all        100       1100      0.917      0.942      0.979      0.615\n"
     ]
    },
    {
     "name": "stderr",
     "output_type": "stream",
     "text": [
      "\n"
     ]
    },
    {
     "name": "stdout",
     "output_type": "stream",
     "text": [
      "\n",
      "      Epoch    GPU_mem   box_loss   cls_loss   dfl_loss  Instances       Size\n"
     ]
    },
    {
     "name": "stderr",
     "output_type": "stream",
     "text": [
      "       9/10      2.25G      1.416     0.7614      1.174         40        640: 100%|\n",
      "                 Class     Images  Instances      Box(P          R      mAP50  mAP50"
     ]
    },
    {
     "name": "stdout",
     "output_type": "stream",
     "text": [
      "                   all        100       1100      0.962      0.948      0.989       0.69\n"
     ]
    },
    {
     "name": "stderr",
     "output_type": "stream",
     "text": [
      "\n"
     ]
    },
    {
     "name": "stdout",
     "output_type": "stream",
     "text": [
      "\n",
      "      Epoch    GPU_mem   box_loss   cls_loss   dfl_loss  Instances       Size\n"
     ]
    },
    {
     "name": "stderr",
     "output_type": "stream",
     "text": [
      "      10/10      2.25G      1.338      0.732      1.151         44        640: 100%|\n",
      "                 Class     Images  Instances      Box(P          R      mAP50  mAP50"
     ]
    },
    {
     "name": "stdout",
     "output_type": "stream",
     "text": [
      "                   all        100       1100      0.963      0.957       0.99       0.75\n"
     ]
    },
    {
     "name": "stderr",
     "output_type": "stream",
     "text": [
      "\n"
     ]
    },
    {
     "name": "stdout",
     "output_type": "stream",
     "text": [
      "\n",
      "10 epochs completed in 0.023 hours.\n",
      "Optimizer stripped from runs/detect/train31/weights/last.pt, 6.2MB\n",
      "Optimizer stripped from runs/detect/train31/weights/best.pt, 6.2MB\n",
      "\n",
      "Validating runs/detect/train31/weights/best.pt...\n",
      "Ultralytics YOLOv8.2.74 🚀 Python-3.11.9 torch-2.1.2 CUDA:0 (NVIDIA GeForce RTX 3090, 24266MiB)\n",
      "YOLOv8n summary (fused): 168 layers, 3,005,843 parameters, 0 gradients\n"
     ]
    },
    {
     "name": "stderr",
     "output_type": "stream",
     "text": [
      "                 Class     Images  Instances      Box(P          R      mAP50  mAP50\n"
     ]
    },
    {
     "name": "stdout",
     "output_type": "stream",
     "text": [
      "                   all        100       1100      0.963      0.957       0.99       0.75\n",
      "Speed: 0.1ms preprocess, 0.6ms inference, 0.0ms loss, 0.6ms postprocess per image\n",
      "Results saved to \u001b[1mruns/detect/train31\u001b[0m\n"
     ]
    }
   ],
   "source": [
    "results = model.train(data=\"./data.yaml\", epochs=10)"
   ]
  },
  {
   "cell_type": "code",
   "execution_count": 4,
   "id": "d089c7ba-dfa6-41b1-8172-4835f8aee935",
   "metadata": {},
   "outputs": [
    {
     "name": "stdout",
     "output_type": "stream",
     "text": [
      "\n",
      "image 1/23 /home/xxl135130/shared/datasets/trainChorusV4/test/rbsp_waveform_snr_a_20160131t23_1.png: 512x640 7 ws, 80.7ms\n",
      "image 2/23 /home/xxl135130/shared/datasets/trainChorusV4/test/rbsp_waveform_snr_a_20160131t23_10.png: 512x640 8 ws, 6.0ms\n",
      "image 3/23 /home/xxl135130/shared/datasets/trainChorusV4/test/rbsp_waveform_snr_a_20160131t23_11.png: 512x640 3 ws, 6.7ms\n",
      "image 4/23 /home/xxl135130/shared/datasets/trainChorusV4/test/rbsp_waveform_snr_a_20160131t23_12.png: 512x640 8 ws, 7.0ms\n",
      "image 5/23 /home/xxl135130/shared/datasets/trainChorusV4/test/rbsp_waveform_snr_a_20160131t23_13.png: 512x640 17 ws, 6.0ms\n",
      "image 6/23 /home/xxl135130/shared/datasets/trainChorusV4/test/rbsp_waveform_snr_a_20160131t23_14.png: 512x640 17 ws, 6.4ms\n",
      "image 7/23 /home/xxl135130/shared/datasets/trainChorusV4/test/rbsp_waveform_snr_a_20160131t23_15.png: 512x640 8 ws, 5.9ms\n",
      "image 8/23 /home/xxl135130/shared/datasets/trainChorusV4/test/rbsp_waveform_snr_a_20160131t23_16.png: 512x640 8 ws, 5.7ms\n",
      "image 9/23 /home/xxl135130/shared/datasets/trainChorusV4/test/rbsp_waveform_snr_a_20160131t23_17.png: 512x640 17 ws, 6.3ms\n",
      "image 10/23 /home/xxl135130/shared/datasets/trainChorusV4/test/rbsp_waveform_snr_a_20160131t23_18.png: 512x640 6 ws, 6.5ms\n",
      "image 11/23 /home/xxl135130/shared/datasets/trainChorusV4/test/rbsp_waveform_snr_a_20160131t23_19.png: 512x640 11 ws, 6.5ms\n",
      "image 12/23 /home/xxl135130/shared/datasets/trainChorusV4/test/rbsp_waveform_snr_a_20160131t23_2.png: 512x640 2 ws, 6.8ms\n",
      "image 13/23 /home/xxl135130/shared/datasets/trainChorusV4/test/rbsp_waveform_snr_a_20160131t23_20.png: 512x640 13 ws, 6.4ms\n",
      "image 14/23 /home/xxl135130/shared/datasets/trainChorusV4/test/rbsp_waveform_snr_a_20160131t23_21.png: 512x640 19 ws, 6.0ms\n",
      "image 15/23 /home/xxl135130/shared/datasets/trainChorusV4/test/rbsp_waveform_snr_a_20160131t23_23.png: 512x640 10 ws, 5.9ms\n",
      "image 16/23 /home/xxl135130/shared/datasets/trainChorusV4/test/rbsp_waveform_snr_a_20160131t23_24.png: 512x640 12 ws, 5.9ms\n",
      "image 17/23 /home/xxl135130/shared/datasets/trainChorusV4/test/rbsp_waveform_snr_a_20160131t23_3.png: 512x640 5 ws, 5.7ms\n",
      "image 18/23 /home/xxl135130/shared/datasets/trainChorusV4/test/rbsp_waveform_snr_a_20160131t23_4.png: 512x640 4 ws, 6.3ms\n",
      "image 19/23 /home/xxl135130/shared/datasets/trainChorusV4/test/rbsp_waveform_snr_a_20160131t23_5.png: 512x640 5 ws, 6.0ms\n",
      "image 20/23 /home/xxl135130/shared/datasets/trainChorusV4/test/rbsp_waveform_snr_a_20160131t23_6.png: 512x640 6 ws, 5.9ms\n",
      "image 21/23 /home/xxl135130/shared/datasets/trainChorusV4/test/rbsp_waveform_snr_a_20160131t23_7.png: 512x640 13 ws, 6.7ms\n",
      "image 22/23 /home/xxl135130/shared/datasets/trainChorusV4/test/rbsp_waveform_snr_a_20160131t23_8.png: 512x640 10 ws, 6.5ms\n",
      "image 23/23 /home/xxl135130/shared/datasets/trainChorusV4/test/rbsp_waveform_snr_a_20160131t23_9.png: 512x640 7 ws, 6.9ms\n",
      "Speed: 2.3ms preprocess, 9.5ms inference, 0.8ms postprocess per image at shape (1, 3, 512, 640)\n",
      "Results saved to \u001b[1mruns/detect/train312\u001b[0m\n",
      "23 labels saved to runs/detect/train312/labels\n"
     ]
    }
   ],
   "source": [
    "results2 = model.predict(source='./datasets/trainChorusV4/test/', save=True, save_txt=True, conf=0.3)"
   ]
  },
  {
   "cell_type": "code",
   "execution_count": null,
   "id": "53ae4310-723c-4b44-85d9-39a5491a37eb",
   "metadata": {},
   "outputs": [],
   "source": [
    "results = model.val()"
   ]
  },
  {
   "cell_type": "code",
   "execution_count": null,
   "id": "31c9c87b-8da6-41d5-953a-0bf6e6ab7c4e",
   "metadata": {},
   "outputs": [],
   "source": [
    "success = model.export(format=\"onnx\")"
   ]
  },
  {
   "cell_type": "code",
   "execution_count": null,
   "id": "256927ce-fd91-45dd-8c55-7333829839b0",
   "metadata": {},
   "outputs": [],
   "source": [
    "results = model('./datasets/test2/images/train/trainImg3.png')\n",
    "for r in results:\n",
    "    print('one sample')\n",
    "    print(r.boxes)"
   ]
  },
  {
   "cell_type": "code",
   "execution_count": null,
   "id": "78b21796-efe8-424c-9d4a-900986800c06",
   "metadata": {},
   "outputs": [],
   "source": []
  }
 ],
 "metadata": {
  "kernelspec": {
   "display_name": "Python 3 (ipykernel)",
   "language": "python",
   "name": "python3"
  },
  "language_info": {
   "codemirror_mode": {
    "name": "ipython",
    "version": 3
   },
   "file_extension": ".py",
   "mimetype": "text/x-python",
   "name": "python",
   "nbconvert_exporter": "python",
   "pygments_lexer": "ipython3",
   "version": "3.11.9"
  }
 },
 "nbformat": 4,
 "nbformat_minor": 5
}
